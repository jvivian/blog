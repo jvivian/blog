{
 "cells": [
  {
   "cell_type": "code",
   "execution_count": 1,
   "metadata": {},
   "outputs": [],
   "source": [
    "import polars as pl\n",
    "import pandas as pd\n",
    "\n",
    "import plotly.express as px\n",
    "import plotly.io as pio\n",
    "from pathlib import Path\n",
    "\n",
    "# pl.Config(set_fmt_float='full')\n",
    "\n",
    "from rich import print"
   ]
  },
  {
   "cell_type": "code",
   "execution_count": null,
   "metadata": {},
   "outputs": [],
   "source": []
  },
  {
   "cell_type": "markdown",
   "metadata": {},
   "source": [
    "# Ape Index"
   ]
  },
  {
   "cell_type": "code",
   "execution_count": null,
   "metadata": {},
   "outputs": [],
   "source": []
  },
  {
   "cell_type": "code",
   "execution_count": null,
   "metadata": {},
   "outputs": [],
   "source": []
  },
  {
   "cell_type": "markdown",
   "metadata": {},
   "source": [
    "## Parse Medical Data"
   ]
  },
  {
   "cell_type": "code",
   "execution_count": 16,
   "metadata": {},
   "outputs": [
    {
     "data": {
      "text/html": [
       "<pre style=\"white-space:pre;overflow-x:auto;line-height:normal;font-family:Menlo,'DejaVu Sans Mono',consolas,'Courier New',monospace\">shape: <span style=\"font-weight: bold\">(</span><span style=\"color: #008080; text-decoration-color: #008080; font-weight: bold\">715</span>, <span style=\"color: #008080; text-decoration-color: #008080; font-weight: bold\">13</span><span style=\"font-weight: bold\">)</span>\n",
       "┌────────┬─────┬─────────────┬─────────────┬───┬─────────────┬────────────┬───────────┬────────────┐\n",
       "│ Gender ┆ Age ┆ HeadCircumf ┆ ShoulderWid ┆ … ┆ ShoulderToW ┆ WaistToKne ┆ LegLength ┆ TotalHeigh │\n",
       "│ ---    ┆ --- ┆ erence      ┆ th          ┆   ┆ aist        ┆ e          ┆ ---       ┆ t          │\n",
       "│ i64    ┆ i64 ┆ ---         ┆ ---         ┆   ┆ ---         ┆ ---        ┆ i64       ┆ ---        │\n",
       "│        ┆     ┆ i64         ┆ i64         ┆   ┆ i64         ┆ i64        ┆           ┆ i64        │\n",
       "╞════════╪═════╪═════════════╪═════════════╪═══╪═════════════╪════════════╪═══════════╪════════════╡\n",
       "│ <span style=\"color: #008080; text-decoration-color: #008080; font-weight: bold\">1</span>      ┆ <span style=\"color: #008080; text-decoration-color: #008080; font-weight: bold\">28</span>  ┆ <span style=\"color: #008080; text-decoration-color: #008080; font-weight: bold\">19</span>          ┆ <span style=\"color: #008080; text-decoration-color: #008080; font-weight: bold\">22</span>          ┆ … ┆ <span style=\"color: #008080; text-decoration-color: #008080; font-weight: bold\">23</span>          ┆ <span style=\"color: #008080; text-decoration-color: #008080; font-weight: bold\">25</span>         ┆ <span style=\"color: #008080; text-decoration-color: #008080; font-weight: bold\">20</span>        ┆ <span style=\"color: #008080; text-decoration-color: #008080; font-weight: bold\">56</span>         │\n",
       "│ <span style=\"color: #008080; text-decoration-color: #008080; font-weight: bold\">2</span>      ┆ <span style=\"color: #008080; text-decoration-color: #008080; font-weight: bold\">27</span>  ┆ <span style=\"color: #008080; text-decoration-color: #008080; font-weight: bold\">21</span>          ┆ <span style=\"color: #008080; text-decoration-color: #008080; font-weight: bold\">18</span>          ┆ … ┆ <span style=\"color: #008080; text-decoration-color: #008080; font-weight: bold\">18</span>          ┆ <span style=\"color: #008080; text-decoration-color: #008080; font-weight: bold\">14</span>         ┆ <span style=\"color: #008080; text-decoration-color: #008080; font-weight: bold\">18</span>        ┆ <span style=\"color: #008080; text-decoration-color: #008080; font-weight: bold\">53</span>         │\n",
       "│ <span style=\"color: #008080; text-decoration-color: #008080; font-weight: bold\">1</span>      ┆ <span style=\"color: #008080; text-decoration-color: #008080; font-weight: bold\">29</span>  ┆ <span style=\"color: #008080; text-decoration-color: #008080; font-weight: bold\">20</span>          ┆ <span style=\"color: #008080; text-decoration-color: #008080; font-weight: bold\">20</span>          ┆ … ┆ <span style=\"color: #008080; text-decoration-color: #008080; font-weight: bold\">21</span>          ┆ <span style=\"color: #008080; text-decoration-color: #008080; font-weight: bold\">20</span>         ┆ <span style=\"color: #008080; text-decoration-color: #008080; font-weight: bold\">21</span>        ┆ <span style=\"color: #008080; text-decoration-color: #008080; font-weight: bold\">45</span>         │\n",
       "│ <span style=\"color: #008080; text-decoration-color: #008080; font-weight: bold\">2</span>      ┆ <span style=\"color: #008080; text-decoration-color: #008080; font-weight: bold\">28</span>  ┆ <span style=\"color: #008080; text-decoration-color: #008080; font-weight: bold\">16</span>          ┆ <span style=\"color: #008080; text-decoration-color: #008080; font-weight: bold\">14</span>          ┆ … ┆ <span style=\"color: #008080; text-decoration-color: #008080; font-weight: bold\">22</span>          ┆ <span style=\"color: #008080; text-decoration-color: #008080; font-weight: bold\">32</span>         ┆ <span style=\"color: #008080; text-decoration-color: #008080; font-weight: bold\">13</span>        ┆ <span style=\"color: #008080; text-decoration-color: #008080; font-weight: bold\">47</span>         │\n",
       "│ <span style=\"color: #008080; text-decoration-color: #008080; font-weight: bold\">2</span>      ┆ <span style=\"color: #008080; text-decoration-color: #008080; font-weight: bold\">22</span>  ┆ <span style=\"color: #008080; text-decoration-color: #008080; font-weight: bold\">17</span>          ┆ <span style=\"color: #008080; text-decoration-color: #008080; font-weight: bold\">19</span>          ┆ … ┆ <span style=\"color: #008080; text-decoration-color: #008080; font-weight: bold\">24</span>          ┆ <span style=\"color: #008080; text-decoration-color: #008080; font-weight: bold\">21</span>         ┆ <span style=\"color: #008080; text-decoration-color: #008080; font-weight: bold\">19</span>        ┆ <span style=\"color: #008080; text-decoration-color: #008080; font-weight: bold\">60</span>         │\n",
       "│ …      ┆ …   ┆ …           ┆ …           ┆ … ┆ …           ┆ …          ┆ …         ┆ …          │\n",
       "│ <span style=\"color: #008080; text-decoration-color: #008080; font-weight: bold\">2</span>      ┆ <span style=\"color: #008080; text-decoration-color: #008080; font-weight: bold\">13</span>  ┆ <span style=\"color: #008080; text-decoration-color: #008080; font-weight: bold\">22</span>          ┆ <span style=\"color: #008080; text-decoration-color: #008080; font-weight: bold\">6</span>           ┆ … ┆ <span style=\"color: #008080; text-decoration-color: #008080; font-weight: bold\">20</span>          ┆ <span style=\"color: #008080; text-decoration-color: #008080; font-weight: bold\">16</span>         ┆ <span style=\"color: #008080; text-decoration-color: #008080; font-weight: bold\">33</span>        ┆ <span style=\"color: #008080; text-decoration-color: #008080; font-weight: bold\">59</span>         │\n",
       "│ <span style=\"color: #008080; text-decoration-color: #008080; font-weight: bold\">1</span>      ┆ <span style=\"color: #008080; text-decoration-color: #008080; font-weight: bold\">10</span>  ┆ <span style=\"color: #008080; text-decoration-color: #008080; font-weight: bold\">21</span>          ┆ <span style=\"color: #008080; text-decoration-color: #008080; font-weight: bold\">11</span>          ┆ … ┆ <span style=\"color: #008080; text-decoration-color: #008080; font-weight: bold\">15</span>          ┆ <span style=\"color: #008080; text-decoration-color: #008080; font-weight: bold\">14</span>         ┆ <span style=\"color: #008080; text-decoration-color: #008080; font-weight: bold\">25</span>        ┆ <span style=\"color: #008080; text-decoration-color: #008080; font-weight: bold\">45</span>         │\n",
       "│ <span style=\"color: #008080; text-decoration-color: #008080; font-weight: bold\">1</span>      ┆ <span style=\"color: #008080; text-decoration-color: #008080; font-weight: bold\">4</span>   ┆ <span style=\"color: #008080; text-decoration-color: #008080; font-weight: bold\">20</span>          ┆ <span style=\"color: #008080; text-decoration-color: #008080; font-weight: bold\">17</span>          ┆ … ┆ <span style=\"color: #008080; text-decoration-color: #008080; font-weight: bold\">12</span>          ┆ <span style=\"color: #008080; text-decoration-color: #008080; font-weight: bold\">12</span>         ┆ <span style=\"color: #008080; text-decoration-color: #008080; font-weight: bold\">22</span>        ┆ <span style=\"color: #008080; text-decoration-color: #008080; font-weight: bold\">40</span>         │\n",
       "│ <span style=\"color: #008080; text-decoration-color: #008080; font-weight: bold\">1</span>      ┆ <span style=\"color: #008080; text-decoration-color: #008080; font-weight: bold\">13</span>  ┆ <span style=\"color: #008080; text-decoration-color: #008080; font-weight: bold\">20</span>          ┆ <span style=\"color: #008080; text-decoration-color: #008080; font-weight: bold\">15</span>          ┆ … ┆ <span style=\"color: #008080; text-decoration-color: #008080; font-weight: bold\">20</span>          ┆ <span style=\"color: #008080; text-decoration-color: #008080; font-weight: bold\">16</span>         ┆ <span style=\"color: #008080; text-decoration-color: #008080; font-weight: bold\">33</span>        ┆ <span style=\"color: #008080; text-decoration-color: #008080; font-weight: bold\">59</span>         │\n",
       "│ <span style=\"color: #008080; text-decoration-color: #008080; font-weight: bold\">2</span>      ┆ <span style=\"color: #008080; text-decoration-color: #008080; font-weight: bold\">4</span>   ┆ <span style=\"color: #008080; text-decoration-color: #008080; font-weight: bold\">20</span>          ┆ <span style=\"color: #008080; text-decoration-color: #008080; font-weight: bold\">15</span>          ┆ … ┆ <span style=\"color: #008080; text-decoration-color: #008080; font-weight: bold\">10</span>          ┆ <span style=\"color: #008080; text-decoration-color: #008080; font-weight: bold\">12</span>         ┆ <span style=\"color: #008080; text-decoration-color: #008080; font-weight: bold\">19</span>        ┆ <span style=\"color: #008080; text-decoration-color: #008080; font-weight: bold\">37</span>         │\n",
       "└────────┴─────┴─────────────┴─────────────┴───┴─────────────┴────────────┴───────────┴────────────┘\n",
       "</pre>\n"
      ],
      "text/plain": [
       "shape: \u001b[1m(\u001b[0m\u001b[1;36m715\u001b[0m, \u001b[1;36m13\u001b[0m\u001b[1m)\u001b[0m\n",
       "┌────────┬─────┬─────────────┬─────────────┬───┬─────────────┬────────────┬───────────┬────────────┐\n",
       "│ Gender ┆ Age ┆ HeadCircumf ┆ ShoulderWid ┆ … ┆ ShoulderToW ┆ WaistToKne ┆ LegLength ┆ TotalHeigh │\n",
       "│ ---    ┆ --- ┆ erence      ┆ th          ┆   ┆ aist        ┆ e          ┆ ---       ┆ t          │\n",
       "│ i64    ┆ i64 ┆ ---         ┆ ---         ┆   ┆ ---         ┆ ---        ┆ i64       ┆ ---        │\n",
       "│        ┆     ┆ i64         ┆ i64         ┆   ┆ i64         ┆ i64        ┆           ┆ i64        │\n",
       "╞════════╪═════╪═════════════╪═════════════╪═══╪═════════════╪════════════╪═══════════╪════════════╡\n",
       "│ \u001b[1;36m1\u001b[0m      ┆ \u001b[1;36m28\u001b[0m  ┆ \u001b[1;36m19\u001b[0m          ┆ \u001b[1;36m22\u001b[0m          ┆ … ┆ \u001b[1;36m23\u001b[0m          ┆ \u001b[1;36m25\u001b[0m         ┆ \u001b[1;36m20\u001b[0m        ┆ \u001b[1;36m56\u001b[0m         │\n",
       "│ \u001b[1;36m2\u001b[0m      ┆ \u001b[1;36m27\u001b[0m  ┆ \u001b[1;36m21\u001b[0m          ┆ \u001b[1;36m18\u001b[0m          ┆ … ┆ \u001b[1;36m18\u001b[0m          ┆ \u001b[1;36m14\u001b[0m         ┆ \u001b[1;36m18\u001b[0m        ┆ \u001b[1;36m53\u001b[0m         │\n",
       "│ \u001b[1;36m1\u001b[0m      ┆ \u001b[1;36m29\u001b[0m  ┆ \u001b[1;36m20\u001b[0m          ┆ \u001b[1;36m20\u001b[0m          ┆ … ┆ \u001b[1;36m21\u001b[0m          ┆ \u001b[1;36m20\u001b[0m         ┆ \u001b[1;36m21\u001b[0m        ┆ \u001b[1;36m45\u001b[0m         │\n",
       "│ \u001b[1;36m2\u001b[0m      ┆ \u001b[1;36m28\u001b[0m  ┆ \u001b[1;36m16\u001b[0m          ┆ \u001b[1;36m14\u001b[0m          ┆ … ┆ \u001b[1;36m22\u001b[0m          ┆ \u001b[1;36m32\u001b[0m         ┆ \u001b[1;36m13\u001b[0m        ┆ \u001b[1;36m47\u001b[0m         │\n",
       "│ \u001b[1;36m2\u001b[0m      ┆ \u001b[1;36m22\u001b[0m  ┆ \u001b[1;36m17\u001b[0m          ┆ \u001b[1;36m19\u001b[0m          ┆ … ┆ \u001b[1;36m24\u001b[0m          ┆ \u001b[1;36m21\u001b[0m         ┆ \u001b[1;36m19\u001b[0m        ┆ \u001b[1;36m60\u001b[0m         │\n",
       "│ …      ┆ …   ┆ …           ┆ …           ┆ … ┆ …           ┆ …          ┆ …         ┆ …          │\n",
       "│ \u001b[1;36m2\u001b[0m      ┆ \u001b[1;36m13\u001b[0m  ┆ \u001b[1;36m22\u001b[0m          ┆ \u001b[1;36m6\u001b[0m           ┆ … ┆ \u001b[1;36m20\u001b[0m          ┆ \u001b[1;36m16\u001b[0m         ┆ \u001b[1;36m33\u001b[0m        ┆ \u001b[1;36m59\u001b[0m         │\n",
       "│ \u001b[1;36m1\u001b[0m      ┆ \u001b[1;36m10\u001b[0m  ┆ \u001b[1;36m21\u001b[0m          ┆ \u001b[1;36m11\u001b[0m          ┆ … ┆ \u001b[1;36m15\u001b[0m          ┆ \u001b[1;36m14\u001b[0m         ┆ \u001b[1;36m25\u001b[0m        ┆ \u001b[1;36m45\u001b[0m         │\n",
       "│ \u001b[1;36m1\u001b[0m      ┆ \u001b[1;36m4\u001b[0m   ┆ \u001b[1;36m20\u001b[0m          ┆ \u001b[1;36m17\u001b[0m          ┆ … ┆ \u001b[1;36m12\u001b[0m          ┆ \u001b[1;36m12\u001b[0m         ┆ \u001b[1;36m22\u001b[0m        ┆ \u001b[1;36m40\u001b[0m         │\n",
       "│ \u001b[1;36m1\u001b[0m      ┆ \u001b[1;36m13\u001b[0m  ┆ \u001b[1;36m20\u001b[0m          ┆ \u001b[1;36m15\u001b[0m          ┆ … ┆ \u001b[1;36m20\u001b[0m          ┆ \u001b[1;36m16\u001b[0m         ┆ \u001b[1;36m33\u001b[0m        ┆ \u001b[1;36m59\u001b[0m         │\n",
       "│ \u001b[1;36m2\u001b[0m      ┆ \u001b[1;36m4\u001b[0m   ┆ \u001b[1;36m20\u001b[0m          ┆ \u001b[1;36m15\u001b[0m          ┆ … ┆ \u001b[1;36m10\u001b[0m          ┆ \u001b[1;36m12\u001b[0m         ┆ \u001b[1;36m19\u001b[0m        ┆ \u001b[1;36m37\u001b[0m         │\n",
       "└────────┴─────┴─────────────┴─────────────┴───┴─────────────┴────────────┴───────────┴────────────┘\n"
      ]
     },
     "metadata": {},
     "output_type": "display_data"
    }
   ],
   "source": [
    "med = pl.read_csv(\"./data/body_measurements.csv\", skip_rows_after_header=1)\n",
    "print(med)"
   ]
  },
  {
   "cell_type": "code",
   "execution_count": 24,
   "metadata": {},
   "outputs": [],
   "source": [
    "med.columns = [x.strip() for x in med.columns]"
   ]
  },
  {
   "cell_type": "code",
   "execution_count": 25,
   "metadata": {},
   "outputs": [
    {
     "data": {
      "text/html": [
       "<div><style>\n",
       ".dataframe > thead > tr,\n",
       ".dataframe > tbody > tr {\n",
       "  text-align: right;\n",
       "  white-space: pre-wrap;\n",
       "}\n",
       "</style>\n",
       "<small>shape: (715, 14)</small><table border=\"1\" class=\"dataframe\"><thead><tr><th>Gender</th><th>Age</th><th>HeadCircumference</th><th>ShoulderWidth</th><th>ChestWidth</th><th>Belly</th><th>Waist</th><th>Hips</th><th>ArmLength</th><th>ShoulderToWaist</th><th>WaistToKnee</th><th>LegLength</th><th>TotalHeight</th><th>ArmSpan</th></tr><tr><td>i64</td><td>i64</td><td>i64</td><td>i64</td><td>i64</td><td>i64</td><td>i64</td><td>i64</td><td>i64</td><td>i64</td><td>i64</td><td>i64</td><td>i64</td><td>i64</td></tr></thead><tbody><tr><td>1</td><td>28</td><td>19</td><td>22</td><td>17</td><td>18</td><td>21</td><td>25</td><td>28</td><td>23</td><td>25</td><td>20</td><td>56</td><td>73</td></tr><tr><td>2</td><td>27</td><td>21</td><td>18</td><td>16</td><td>14</td><td>10</td><td>15</td><td>21</td><td>18</td><td>14</td><td>18</td><td>53</td><td>58</td></tr><tr><td>1</td><td>29</td><td>20</td><td>20</td><td>18</td><td>11</td><td>19</td><td>14</td><td>24</td><td>21</td><td>20</td><td>21</td><td>45</td><td>66</td></tr><tr><td>2</td><td>28</td><td>16</td><td>14</td><td>18</td><td>13</td><td>11</td><td>30</td><td>25</td><td>22</td><td>32</td><td>13</td><td>47</td><td>68</td></tr><tr><td>2</td><td>22</td><td>17</td><td>19</td><td>18</td><td>14</td><td>16</td><td>18</td><td>20</td><td>24</td><td>21</td><td>19</td><td>60</td><td>58</td></tr><tr><td>&hellip;</td><td>&hellip;</td><td>&hellip;</td><td>&hellip;</td><td>&hellip;</td><td>&hellip;</td><td>&hellip;</td><td>&hellip;</td><td>&hellip;</td><td>&hellip;</td><td>&hellip;</td><td>&hellip;</td><td>&hellip;</td><td>&hellip;</td></tr><tr><td>2</td><td>13</td><td>22</td><td>6</td><td>14</td><td>25</td><td>18</td><td>30</td><td>21</td><td>20</td><td>16</td><td>33</td><td>59</td><td>56</td></tr><tr><td>1</td><td>10</td><td>21</td><td>11</td><td>12</td><td>22</td><td>2</td><td>26</td><td>21</td><td>15</td><td>14</td><td>25</td><td>45</td><td>54</td></tr><tr><td>1</td><td>4</td><td>20</td><td>17</td><td>11</td><td>22</td><td>22</td><td>22</td><td>17</td><td>12</td><td>12</td><td>22</td><td>40</td><td>45</td></tr><tr><td>1</td><td>13</td><td>20</td><td>15</td><td>14</td><td>25</td><td>18</td><td>30</td><td>21</td><td>20</td><td>16</td><td>33</td><td>59</td><td>56</td></tr><tr><td>2</td><td>4</td><td>20</td><td>15</td><td>10</td><td>20</td><td>20</td><td>21</td><td>18</td><td>10</td><td>12</td><td>19</td><td>37</td><td>46</td></tr></tbody></table></div>"
      ],
      "text/plain": [
       "shape: (715, 14)\n",
       "┌────────┬─────┬──────────────┬──────────────┬───┬─────────────┬───────────┬─────────────┬─────────┐\n",
       "│ Gender ┆ Age ┆ HeadCircumfe ┆ ShoulderWidt ┆ … ┆ WaistToKnee ┆ LegLength ┆ TotalHeight ┆ ArmSpan │\n",
       "│ ---    ┆ --- ┆ rence        ┆ h            ┆   ┆ ---         ┆ ---       ┆ ---         ┆ ---     │\n",
       "│ i64    ┆ i64 ┆ ---          ┆ ---          ┆   ┆ i64         ┆ i64       ┆ i64         ┆ i64     │\n",
       "│        ┆     ┆ i64          ┆ i64          ┆   ┆             ┆           ┆             ┆         │\n",
       "╞════════╪═════╪══════════════╪══════════════╪═══╪═════════════╪═══════════╪═════════════╪═════════╡\n",
       "│ 1      ┆ 28  ┆ 19           ┆ 22           ┆ … ┆ 25          ┆ 20        ┆ 56          ┆ 73      │\n",
       "│ 2      ┆ 27  ┆ 21           ┆ 18           ┆ … ┆ 14          ┆ 18        ┆ 53          ┆ 58      │\n",
       "│ 1      ┆ 29  ┆ 20           ┆ 20           ┆ … ┆ 20          ┆ 21        ┆ 45          ┆ 66      │\n",
       "│ 2      ┆ 28  ┆ 16           ┆ 14           ┆ … ┆ 32          ┆ 13        ┆ 47          ┆ 68      │\n",
       "│ 2      ┆ 22  ┆ 17           ┆ 19           ┆ … ┆ 21          ┆ 19        ┆ 60          ┆ 58      │\n",
       "│ …      ┆ …   ┆ …            ┆ …            ┆ … ┆ …           ┆ …         ┆ …           ┆ …       │\n",
       "│ 2      ┆ 13  ┆ 22           ┆ 6            ┆ … ┆ 16          ┆ 33        ┆ 59          ┆ 56      │\n",
       "│ 1      ┆ 10  ┆ 21           ┆ 11           ┆ … ┆ 14          ┆ 25        ┆ 45          ┆ 54      │\n",
       "│ 1      ┆ 4   ┆ 20           ┆ 17           ┆ … ┆ 12          ┆ 22        ┆ 40          ┆ 45      │\n",
       "│ 1      ┆ 13  ┆ 20           ┆ 15           ┆ … ┆ 16          ┆ 33        ┆ 59          ┆ 56      │\n",
       "│ 2      ┆ 4   ┆ 20           ┆ 15           ┆ … ┆ 12          ┆ 19        ┆ 37          ┆ 46      │\n",
       "└────────┴─────┴──────────────┴──────────────┴───┴─────────────┴───────────┴─────────────┴─────────┘"
      ]
     },
     "execution_count": 25,
     "metadata": {},
     "output_type": "execute_result"
    }
   ],
   "source": [
    "# med.select(pl.col('^Chest.*$'))\n",
    "med.with_columns((pl.col('ChestWidth') + pl.col('ArmLength') * 2).alias('ArmSpan'))"
   ]
  },
  {
   "cell_type": "code",
   "execution_count": 14,
   "metadata": {},
   "outputs": [
    {
     "data": {
      "text/html": [
       "<div><style>\n",
       ".dataframe > thead > tr,\n",
       ".dataframe > tbody > tr {\n",
       "  text-align: right;\n",
       "  white-space: pre-wrap;\n",
       "}\n",
       "</style>\n",
       "<small>shape: (4_464, 1)</small><table border=\"1\" class=\"dataframe\"><thead><tr><th>hand_len</th></tr><tr><td>f64</td></tr></thead><tbody><tr><td>8.62</td></tr><tr><td>8.82</td></tr><tr><td>8.27</td></tr><tr><td>8.03</td></tr><tr><td>8.58</td></tr><tr><td>&hellip;</td></tr><tr><td>6.89</td></tr><tr><td>7.24</td></tr><tr><td>7.48</td></tr><tr><td>7.48</td></tr><tr><td>7.05</td></tr></tbody></table></div>"
      ],
      "text/plain": [
       "shape: (4_464, 1)\n",
       "┌──────────┐\n",
       "│ hand_len │\n",
       "│ ---      │\n",
       "│ f64      │\n",
       "╞══════════╡\n",
       "│ 8.62     │\n",
       "│ 8.82     │\n",
       "│ 8.27     │\n",
       "│ 8.03     │\n",
       "│ 8.58     │\n",
       "│ …        │\n",
       "│ 6.89     │\n",
       "│ 7.24     │\n",
       "│ 7.48     │\n",
       "│ 7.48     │\n",
       "│ 7.05     │\n",
       "└──────────┘"
      ]
     },
     "execution_count": 14,
     "metadata": {},
     "output_type": "execute_result"
    }
   ],
   "source": [
    "cols = [\"arm_len_spine_wrist\", \"hand_len\", \"gender\", \"reported_height\", \"height\"]\n",
    "med.select(pl.col(\"^*hand.*$\"))\n",
    "# med = med.select(cols).with_columns(\n",
    "#     (pl.col(\"arm_len_spine_wrist\") * 2 + pl.col(\"hand_len\") * 2).alias(\"armspan\")\n",
    "# ).with_columns((pl.col(\"armspan\") / pl.col(\"height\")).alias(\"ApeIndex\"))\n",
    "# print(med)"
   ]
  },
  {
   "cell_type": "code",
   "execution_count": 13,
   "metadata": {},
   "outputs": [
    {
     "data": {
      "text/html": [
       "<div><style>\n",
       ".dataframe > thead > tr,\n",
       ".dataframe > tbody > tr {\n",
       "  text-align: right;\n",
       "  white-space: pre-wrap;\n",
       "}\n",
       "</style>\n",
       "<small>shape: (4_464, 3)</small><table border=\"1\" class=\"dataframe\"><thead><tr><th>arm_len_spine_wrist</th><th>arm_len_shoulder_wrist</th><th>arm_len_shoulder_elbow</th></tr><tr><td>f64</td><td>f64</td><td>f64</td></tr></thead><tbody><tr><td>35.71</td><td>27.44</td><td>14.84</td></tr><tr><td>34.61</td><td>25.55</td><td>13.5</td></tr><tr><td>34.25</td><td>25.75</td><td>13.74</td></tr><tr><td>34.53</td><td>26.02</td><td>13.31</td></tr><tr><td>36.18</td><td>27.32</td><td>14.29</td></tr><tr><td>&hellip;</td><td>&hellip;</td><td>&hellip;</td></tr><tr><td>27.64</td><td>20.39</td><td>10.63</td></tr><tr><td>30.83</td><td>22.87</td><td>11.57</td></tr><tr><td>32.87</td><td>25.31</td><td>13.39</td></tr><tr><td>30.39</td><td>22.72</td><td>11.61</td></tr><tr><td>29.8</td><td>22.24</td><td>11.54</td></tr></tbody></table></div>"
      ],
      "text/plain": [
       "shape: (4_464, 3)\n",
       "┌─────────────────────┬────────────────────────┬────────────────────────┐\n",
       "│ arm_len_spine_wrist ┆ arm_len_shoulder_wrist ┆ arm_len_shoulder_elbow │\n",
       "│ ---                 ┆ ---                    ┆ ---                    │\n",
       "│ f64                 ┆ f64                    ┆ f64                    │\n",
       "╞═════════════════════╪════════════════════════╪════════════════════════╡\n",
       "│ 35.71               ┆ 27.44                  ┆ 14.84                  │\n",
       "│ 34.61               ┆ 25.55                  ┆ 13.5                   │\n",
       "│ 34.25               ┆ 25.75                  ┆ 13.74                  │\n",
       "│ 34.53               ┆ 26.02                  ┆ 13.31                  │\n",
       "│ 36.18               ┆ 27.32                  ┆ 14.29                  │\n",
       "│ …                   ┆ …                      ┆ …                      │\n",
       "│ 27.64               ┆ 20.39                  ┆ 10.63                  │\n",
       "│ 30.83               ┆ 22.87                  ┆ 11.57                  │\n",
       "│ 32.87               ┆ 25.31                  ┆ 13.39                  │\n",
       "│ 30.39               ┆ 22.72                  ┆ 11.61                  │\n",
       "│ 29.8                ┆ 22.24                  ┆ 11.54                  │\n",
       "└─────────────────────┴────────────────────────┴────────────────────────┘"
      ]
     },
     "execution_count": 13,
     "metadata": {},
     "output_type": "execute_result"
    }
   ],
   "source": [
    "med.select(pl.col('^arm.*$'))"
   ]
  },
  {
   "cell_type": "code",
   "execution_count": null,
   "metadata": {},
   "outputs": [],
   "source": []
  },
  {
   "cell_type": "code",
   "execution_count": null,
   "metadata": {},
   "outputs": [],
   "source": []
  },
  {
   "cell_type": "code",
   "execution_count": null,
   "metadata": {},
   "outputs": [],
   "source": []
  }
 ],
 "metadata": {
  "kernelspec": {
   "display_name": "blog",
   "language": "python",
   "name": "python3"
  },
  "language_info": {
   "codemirror_mode": {
    "name": "ipython",
    "version": 3
   },
   "file_extension": ".py",
   "mimetype": "text/x-python",
   "name": "python",
   "nbconvert_exporter": "python",
   "pygments_lexer": "ipython3",
   "version": "3.10.13"
  }
 },
 "nbformat": 4,
 "nbformat_minor": 2
}
